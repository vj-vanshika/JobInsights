{
 "cells": [
  {
   "cell_type": "code",
   "execution_count": 1,
   "metadata": {},
   "outputs": [
    {
     "name": "stdout",
     "output_type": "stream",
     "text": [
      "Full Stack Development - Sr. Technology Associate / Specialist\n",
      "Mumbai, Maharashtra\n",
      "Colgate-Palmolive\n",
      "50K\n",
      "/pagead/clk?mo=r&ad=-6NYlbfkN0CScSxRBn_n5hzPBw7DFYVJJAQwrBP-UaBS3EDdzxnGq444OIF0JFJ_9dgVGl5q5Nc2QyLogdxHR9WzBTeZ3VPOmYciVw4CJBWo4UETTjaq094grg00VfzvpPiMkXrXFSD8DKv-qSheRVJnVJk0oGoqOpQI99_sAzUkDbwFa4DoZl_Z8N2_i9-OjNBXF1jIVDvDKfxAZS-9haNpSEROWCffj3l58pqMIOIRfOONskIs0NhAieRZunaaGUlLAOduYvJt28ACbZTSOnaERuwVc68eXqOsAwh_vME7GA5YTxK200dJeRmqhSX-1GJBLsFrk4xTPhgnfLJWnZ6J0w6--_IKTtTczERhsYOs4O8oBvk3zHiNyDm03gDJJ2x6TknoibdOa_YtV8ZzymbjCZZe2i92KC1ftk0Yj833n7VGhcyM5eMUnercZGZ_xvma87ZWXQp4TEfiUlkUb-kYQejCBiVXGzSNR_ohQ3PbQ2Pp5033z6D4ZaYYpNUc47ZYv1Kq02mP7b6Oq5ciXHR37_fMaE9FiA6tXaIm_pyHtTgfBuT0CfLrRr8h87Db1FCXzUh1wNgGRE7iRLdGAaOUNyq89BGA8Xp_K6uZIKu-Jfsd06v5K3jUh8wVjJhNnuOuBuK5rt96Fismez-VAnf7Fetqxfo1LZA5fAFSJk4OZnElzT5nYmGOHeJW2AyYmWzgrxweRQqA5ax1CaU9EvgEsBt2U7kBp810xuXoDkY=&xkcb=SoB6-_M3NquxR9AGEL0KbzkdCdPP&p=0&fvj=0&vjs=3\n",
      "https://www.indeed.com/pagead/clk?mo=r&ad=-6NYlbfkN0CScSxRBn_n5hzPBw7DFYVJJAQwrBP-UaBS3EDdzxnGq444OIF0JFJ_9dgVGl5q5Nc2QyLogdxHR9WzBTeZ3VPOmYciVw4CJBWo4UETTjaq094grg00VfzvpPiMkXrXFSD8DKv-qSheRVJnVJk0oGoqOpQI99_sAzUkDbwFa4DoZl_Z8N2_i9-OjNBXF1jIVDvDKfxAZS-9haNpSEROWCffj3l58pqMIOIRfOONskIs0NhAieRZunaaGUlLAOduYvJt28ACbZTSOnaERuwVc68eXqOsAwh_vME7GA5YTxK200dJeRmqhSX-1GJBLsFrk4xTPhgnfLJWnZ6J0w6--_IKTtTczERhsYOs4O8oBvk3zHiNyDm03gDJJ2x6TknoibdOa_YtV8ZzymbjCZZe2i92KC1ftk0Yj833n7VGhcyM5eMUnercZGZ_xvma87ZWXQp4TEfiUlkUb-kYQejCBiVXGzSNR_ohQ3PbQ2Pp5033z6D4ZaYYpNUc47ZYv1Kq02mP7b6Oq5ciXHR37_fMaE9FiA6tXaIm_pyHtTgfBuT0CfLrRr8h87Db1FCXzUh1wNgGRE7iRLdGAaOUNyq89BGA8Xp_K6uZIKu-Jfsd06v5K3jUh8wVjJhNnuOuBuK5rt96Fismez-VAnf7Fetqxfo1LZA5fAFSJk4OZnElzT5nYmGOHeJW2AyYmWzgrxweRQqA5ax1CaU9EvgEsBt2U7kBp810xuXoDkY=&xkcb=SoB6-_M3NquxR9AGEL0KbzkdCdPP&p=0&fvj=0&vjs=3\n"
     ]
    },
    {
     "ename": "AttributeError",
     "evalue": "'NoneType' object has no attribute 'text'",
     "output_type": "error",
     "traceback": [
      "\u001b[1;31m---------------------------------------------------------------------------\u001b[0m",
      "\u001b[1;31mAttributeError\u001b[0m                            Traceback (most recent call last)",
      "\u001b[1;32m~\\AppData\\Local\\Temp/ipykernel_35320/4159676943.py\u001b[0m in \u001b[0;36m<module>\u001b[1;34m\u001b[0m\n\u001b[0;32m     83\u001b[0m \u001b[1;33m\u001b[0m\u001b[0m\n\u001b[0;32m     84\u001b[0m \u001b[1;33m\u001b[0m\u001b[0m\n\u001b[1;32m---> 85\u001b[1;33m                 \u001b[0mjob_desc\u001b[0m\u001b[1;33m=\u001b[0m\u001b[0mdriver\u001b[0m\u001b[1;33m.\u001b[0m\u001b[0mfind_element\u001b[0m\u001b[1;33m(\u001b[0m\u001b[0mBy\u001b[0m\u001b[1;33m.\u001b[0m\u001b[0mID\u001b[0m\u001b[1;33m,\u001b[0m\u001b[1;34m\"jobDescriptionText\"\u001b[0m\u001b[1;33m)\u001b[0m\u001b[1;33m.\u001b[0m\u001b[0mtext\u001b[0m\u001b[1;33m\u001b[0m\u001b[1;33m\u001b[0m\u001b[0m\n\u001b[0m\u001b[0;32m     86\u001b[0m                 \u001b[0mprint\u001b[0m\u001b[1;33m(\u001b[0m\u001b[0mjob_desc\u001b[0m\u001b[1;33m)\u001b[0m\u001b[1;33m\u001b[0m\u001b[1;33m\u001b[0m\u001b[0m\n\u001b[0;32m     87\u001b[0m                 \u001b[0mdriver\u001b[0m\u001b[1;33m.\u001b[0m\u001b[0mclose\u001b[0m\u001b[1;33m(\u001b[0m\u001b[1;33m)\u001b[0m\u001b[1;33m\u001b[0m\u001b[1;33m\u001b[0m\u001b[0m\n",
      "\u001b[1;31mAttributeError\u001b[0m: 'NoneType' object has no attribute 'text'"
     ]
    }
   ],
   "source": [
    "from selenium import webdriver\n",
    "from selenium.webdriver.common.by import By\n",
    "import pandas as pd\n",
    "from bs4 import BeautifulSoup\n",
    "\n",
    "\n",
    "driver = driver = webdriver.Chrome()\n",
    "\n",
    "dataframe = pd.DataFrame(columns=[\"Title\",\"Location\",\"Company\",\"Salary\",\"Sponsored\",\"Description\"])\n",
    "\n",
    "\n",
    "for i in range(0,15,10):\n",
    "\n",
    "\t##Step1: Get the page\n",
    "\tdriver.get(\"https://www.indeed.co.in/jobs?q=data+science&l=India&start=\"+str(i))\n",
    "\tdriver.implicitly_wait(410)\n",
    "\n",
    "\tall_jobs = driver.find_elements(By.CSS_SELECTOR, \".result\")\n",
    "\tfor job in all_jobs:\n",
    "\t\tdriver.implicitly_wait(410)\n",
    "\n",
    "\t\tresult_html = job.get_attribute('innerHTML')\n",
    "\t\tsoup = BeautifulSoup(result_html,'html.parser')\n",
    "\n",
    "\t\ttry:\n",
    "\t\t\ttitle = soup.find(\"span\",title=True).text.replace('\\n','')\n",
    "\t\texcept:\n",
    "\t\t\ttitle = 'None'\n",
    "\t\tprint(title)\n",
    "\t\t\n",
    "\n",
    "\t\ttry:\n",
    "\t\t\tlocation = soup.find(\"div\",class_=\"companyLocation\").text\n",
    "\t\texcept:\n",
    "\t\t\tlocation = 'None'\n",
    "\t\tprint(location)\n",
    "        \n",
    "\t\ttry:\n",
    "\t\t\tcompany = soup.find(\"span\",class_=\"companyName\").text.replace(\"\\n\",\"\").strip()\n",
    "\t\texcept:\n",
    "\t\t\tcompany = 'None'\n",
    "\t\tprint(company)\n",
    "\n",
    "\t\ttry:\n",
    "\t\t\tsalary = soup.find(\"div\",class_=\"metadata salary-snippet-container\").text.replace(\"\\n\",\"\").strip()\n",
    "\t\texcept:\n",
    "\t\t\tsalary = '50K'\n",
    "\t\tprint(salary)\n",
    "        \n",
    "\t\t\n",
    "\t\tlink = soup.find(\"a\",class_=\"jcs-JobTitle css-jspxzf eu4oa1w0\")\n",
    "\t\thref_link=link['href']\n",
    "\t\tprint(href_link)\n",
    "\n",
    "\t\tdriver.execute_script(\"window.open('');\")\n",
    "\t\tdriver.switch_to.window(driver.window_handles[1])\n",
    "\t\tbase_url = 'https://www.indeed.com'\n",
    "\t\tnew_url= base_url+href_link\n",
    "\t\tprint(new_url)\n",
    "\t\tdriver.get(new_url)\n",
    "\t\tdriver.implicitly_wait(1000)\n",
    "\t\t\n",
    "\n",
    "\n",
    "\t\tjob_desc=driver.find_element(By.ID,\"jobDescriptionText\").text\n",
    "\t\tprint(job_desc)\n",
    "\t\tdriver.close()\n",
    "\t\tdriver.switch_to.window(driver.window_handles[0])\n",
    "\n",
    "\n",
    "\n",
    "\n",
    "\t\t\t\t\n",
    "\t\tdataframe = dataframe.append({'Title':title,'Location':location,\"Company\":company, \"Salary\":salary,\n",
    "\t\t\t\t\t\t\"Description\":job_desc,'Job Link':href_link},\n",
    "\t\t\t\t\t\tignore_index=True)\n",
    "driver.quit()\n",
    "\n",
    "\n",
    "dataframe.to_csv(\"data n practice\\datascience.csv\",index=False)\n",
    "\n",
    "\n",
    "\n",
    "\n",
    "\n",
    "\n",
    "\n",
    "\n",
    "\n",
    "\n",
    "\n",
    "\n",
    "\n",
    "\n",
    "\n",
    "\n",
    "\n",
    "\n",
    "\n"
   ]
  },
  {
   "cell_type": "code",
   "execution_count": 11,
   "metadata": {},
   "outputs": [],
   "source": [
    "import pandas as pd\n",
    "df=pd.read_csv(\"data n practice\\datascience.csv\")\n",
    "df.head\n",
    "def clean(location):\n",
    "    new=location.split(\",\")[-1].strip()\n",
    "    return new\n",
    "df[\"state\"]=df[\"Location\"].apply(clean)\n",
    "df.head\n",
    "df.to_csv(\"data n practice\\datascience.csv\", index=False)\n"
   ]
  },
  {
   "cell_type": "code",
   "execution_count": 12,
   "metadata": {},
   "outputs": [
    {
     "name": "stdout",
     "output_type": "stream",
     "text": [
      "CSV to JSON conversion is complete.\n"
     ]
    }
   ],
   "source": [
    "import csv\n",
    "import json\n",
    "\n",
    "csv_file = 'data n practice\\datascience.csv'\n",
    "json_file = 'datascience.json'\n",
    "\n",
    "data = []\n",
    "\n",
    "# Read the CSV file and convert each row into a dictionary\n",
    "with open(csv_file, 'r') as file:\n",
    "    reader = csv.DictReader(file)\n",
    "    for row in reader:\n",
    "        data.append(row)\n",
    "\n",
    "# Write the JSON data into a file\n",
    "with open(json_file, 'w') as file:\n",
    "    json.dump(data, file, indent=4)\n",
    "\n",
    "print(\"CSV to JSON conversion is complete.\")\n"
   ]
  }
 ],
 "metadata": {
  "kernelspec": {
   "display_name": "Python 3",
   "language": "python",
   "name": "python3"
  },
  "language_info": {
   "codemirror_mode": {
    "name": "ipython",
    "version": 3
   },
   "file_extension": ".py",
   "mimetype": "text/x-python",
   "name": "python",
   "nbconvert_exporter": "python",
   "pygments_lexer": "ipython3",
   "version": "3.9.7"
  },
  "orig_nbformat": 4
 },
 "nbformat": 4,
 "nbformat_minor": 2
}
